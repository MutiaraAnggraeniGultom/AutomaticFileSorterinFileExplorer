{
 "cells": [
  {
   "cell_type": "markdown",
   "id": "8d0bd682-1632-49ea-ab15-394532063bf5",
   "metadata": {},
   "source": [
    "# Automatic File Sorter in File Explorer"
   ]
  },
  {
   "cell_type": "code",
   "execution_count": 45,
   "id": "8656d7df-9626-4119-92d5-f90e407599e2",
   "metadata": {},
   "outputs": [],
   "source": [
    "import os, shutil\n",
    "path = r\"C:/Users/ASUS/Documents/Project Python Tutorial/\"\n",
    "os.listdir(path)\n",
    "file_name = os.listdir(path)"
   ]
  },
  {
   "cell_type": "code",
   "execution_count": 47,
   "id": "d56ff31d-daa3-489f-b02d-0a4a41a0c68e",
   "metadata": {},
   "outputs": [
    {
     "name": "stdout",
     "output_type": "stream",
     "text": [
      "C:/Users/ASUS/Documents/Project Python Tutorial/excel files\n",
      "C:/Users/ASUS/Documents/Project Python Tutorial/image files\n",
      "C:/Users/ASUS/Documents/Project Python Tutorial/text files\n"
     ]
    }
   ],
   "source": [
    "folder_name = ['excel files', 'image files', 'text files']\n",
    "for loop in range(0,3):\n",
    "    if not os.path.exists(path + folder_name[loop]):\n",
    "        print(path + folder_name[loop])\n",
    "        os.makedirs(path + folder_name[loop])\n",
    "\n",
    "for file in file_name:\n",
    "    if \".xlsx\" in file and not os.path.exists(path + \"excel files/\" + file):\n",
    "        shutil.move(path + file, path + \"excel files/\" + file)\n",
    "    elif \".JPG\" in file and not os.path.exists(path + \"image files/\" + file):\n",
    "        shutil.move(path + file, path + \"image files/\" + file)\n",
    "    elif \".txt\" in file and not os.path.exists(path + \"text files/\" + file):\n",
    "        shutil.move(path + file, path + \"text files/\" + file)"
   ]
  },
  {
   "cell_type": "code",
   "execution_count": 31,
   "id": "861daee7-d260-40b4-9d2a-43765e6be832",
   "metadata": {},
   "outputs": [],
   "source": [
    "path = r\"C:/Users/ASUS/Documents/Project Python Tutorial/\""
   ]
  },
  {
   "cell_type": "code",
   "execution_count": 33,
   "id": "100bb333-e1d6-4137-ba36-64db29b00b15",
   "metadata": {},
   "outputs": [
    {
     "data": {
      "text/plain": [
       "['excel files',\n",
       " 'image files',\n",
       " 'Power BI - Final Project.xlsx',\n",
       " 'Snapshot_20231114_10.JPG',\n",
       " 'Snapshot_20231114_9.JPG',\n",
       " 'Test.txt',\n",
       " 'text files']"
      ]
     },
     "execution_count": 33,
     "metadata": {},
     "output_type": "execute_result"
    }
   ],
   "source": [
    "os.listdir(path)"
   ]
  },
  {
   "cell_type": "code",
   "execution_count": 35,
   "id": "b122b55c-a22b-41fe-8537-b488e1e97440",
   "metadata": {},
   "outputs": [],
   "source": [
    "file_name = os.listdir(path)"
   ]
  },
  {
   "cell_type": "code",
   "execution_count": 37,
   "id": "c1364800-069a-4ee9-bb11-aed6a5ff389c",
   "metadata": {},
   "outputs": [],
   "source": [
    "folder_name = ['excel files', 'image files', 'text files']\n",
    "for loop in range(0,3):\n",
    "    if not os.path.exists(path + folder_name[loop]):\n",
    "        print(path + folder_name[loop])\n",
    "        os.makedirs(path + folder_name[loop])\n",
    "    "
   ]
  },
  {
   "cell_type": "code",
   "execution_count": 43,
   "id": "516695f6-439e-4773-8a06-be25cd6ae2bb",
   "metadata": {},
   "outputs": [],
   "source": [
    "for file in file_name:\n",
    "    if \".xlsx\" in file and not os.path.exists(path + \"excel files/\" + file):\n",
    "        shutil.move(path + file, path + \"excel files/\" + file)\n",
    "    elif \".JPG\" in file and not os.path.exists(path + \"image files/\" + file):\n",
    "        shutil.move(path + file, path + \"image files/\" + file)\n",
    "    elif \".txt\" in file and not os.path.exists(path + \"text files/\" + file):\n",
    "        shutil.move(path + file, path + \"text files/\" + file)"
   ]
  }
 ],
 "metadata": {
  "kernelspec": {
   "display_name": "Python 3 (ipykernel)",
   "language": "python",
   "name": "python3"
  },
  "language_info": {
   "codemirror_mode": {
    "name": "ipython",
    "version": 3
   },
   "file_extension": ".py",
   "mimetype": "text/x-python",
   "name": "python",
   "nbconvert_exporter": "python",
   "pygments_lexer": "ipython3",
   "version": "3.12.4"
  }
 },
 "nbformat": 4,
 "nbformat_minor": 5
}
